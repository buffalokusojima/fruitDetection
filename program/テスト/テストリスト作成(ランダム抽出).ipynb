{
 "cells": [
  {
   "cell_type": "markdown",
   "metadata": {},
   "source": [
    "# テストデータをランダムにフォルダから抽出して作成する"
   ]
  },
  {
   "cell_type": "markdown",
   "metadata": {},
   "source": [
    "## モジュールインポート"
   ]
  },
  {
   "cell_type": "code",
   "execution_count": 9,
   "metadata": {},
   "outputs": [],
   "source": [
    "import os, glob, shutil, random"
   ]
  },
  {
   "cell_type": "markdown",
   "metadata": {},
   "source": [
    "## 定数宣言"
   ]
  },
  {
   "cell_type": "code",
   "execution_count": 55,
   "metadata": {},
   "outputs": [],
   "source": [
    "target_dir = '../train_set/学習データ/479削除データ'\n",
    "output_dir = 'テストリスト'\n",
    "class_file = 'model_data/品種モデル/7_さくらんぼ/class.txt'\n",
    "fileNum = 30"
   ]
  },
  {
   "cell_type": "code",
   "execution_count": 56,
   "metadata": {},
   "outputs": [],
   "source": [
    "img_path = os.path.join(target_dir, 'image', '7_さくらんぼ')\n",
    "test_dir = os.path.join(output_dir, os.path.basename(target_dir), '品種', 'random_'+str(fileNum), \"7_さくらんぼ\")"
   ]
  },
  {
   "cell_type": "markdown",
   "metadata": {},
   "source": [
    "## クラスファイル取得"
   ]
  },
  {
   "cell_type": "code",
   "execution_count": 57,
   "metadata": {},
   "outputs": [],
   "source": [
    "class_list = []\n",
    "with open(class_file, 'r') as f:\n",
    "    line = f.readline()\n",
    "    while line:\n",
    "        class_list.append(line.replace(\"\\n\", \"\"))\n",
    "        line = f.readline()"
   ]
  },
  {
   "cell_type": "code",
   "execution_count": 58,
   "metadata": {},
   "outputs": [
    {
     "name": "stdout",
     "output_type": "stream",
     "text": [
      "['佐藤錦', '月山錦', '大将錦', '紅秀峰', '南陽']\n"
     ]
    }
   ],
   "source": [
    "print(class_list)"
   ]
  },
  {
   "cell_type": "markdown",
   "metadata": {},
   "source": [
    "## データをコピー"
   ]
  },
  {
   "cell_type": "code",
   "execution_count": 59,
   "metadata": {},
   "outputs": [],
   "source": [
    "img_list = []\n",
    "for path in glob.glob(os.path.join(img_path, '*')):\n",
    "    \n",
    "    tmp_list =  glob.glob(os.path.join(path, '**', '*.jpg'), recursive=True)\n",
    "    random.shuffle(tmp_list)\n",
    "    img_list.extend(tmp_list[:fileNum])"
   ]
  },
  {
   "cell_type": "code",
   "execution_count": 60,
   "metadata": {},
   "outputs": [
    {
     "name": "stdout",
     "output_type": "stream",
     "text": [
      "folder made: テストリスト/479削除データ/品種/random_30/7_さくらんぼ\n",
      "file made: テストリスト/479削除データ/品種/random_30/7_さくらんぼ/test.txt\n"
     ]
    }
   ],
   "source": [
    "if not os.path.isdir(test_dir):\n",
    "    print(\"folder made:\", test_dir)\n",
    "    os.makedirs(test_dir)\n",
    "    \n",
    "    \n",
    "test_list = []\n",
    "for img in img_list:\n",
    "    img_name = os.path.basename(img)\n",
    "    \"\"\"\n",
    "    output_img = os.path.join(test_dir, \"image\", img_name)\n",
    "    shutil.copyfile(img, output_img)\n",
    "    print(\"copy\", img, \"to\", output_img)\n",
    "    \"\"\"\n",
    "    annotation = img.replace(\"image\", \"annotation\").replace(\".jpg\", \".txt\")\n",
    "    \n",
    "    \"\"\"\n",
    "    annotation_name = os.path.basename(annotation)\n",
    "    output_annotation = os.path.join(test_dir, \"annotation\", annotation_name)\n",
    "    shutil.copyfile(annotation, output_annotation)\n",
    "    print(\"copy\", annotation, \"to\", output_annotation)\n",
    "    \"\"\"\n",
    "    with open(annotation, 'r') as f:\n",
    "        line =  f.readline()\n",
    "        while line:\n",
    "            annotation = line.split(\" \")\n",
    "            x_min = annotation[0]\n",
    "            x_max = annotation[1]\n",
    "            y_min = annotation[2]\n",
    "            y_max = annotation[3]\n",
    "            annotation = \",\".join([x_min, y_min, x_max, y_max])\n",
    "            line = f.readline()\n",
    "    \n",
    "   \n",
    "    \n",
    "    class_index = None\n",
    "    for c in class_list:\n",
    "        if img.find(c) > 0:\n",
    "            class_index = str(class_list.index(c))\n",
    "            \n",
    "    test_list.append([img, annotation, class_index])\n",
    "    \n",
    "last = test_list[-1]\n",
    "test_file = os.path.join(test_dir,'test.txt')\n",
    "with open(test_file, 'w', encoding='utf-8') as f:\n",
    "    for test in test_list:\n",
    "        jpg = test[0]\n",
    "        f.write(jpg+ ' ')\n",
    "        test[1] = test[1].split(\" \")\n",
    "        test[1] = \",\".join(test[1])\n",
    "        f.write(test[1])\n",
    "        f.write(\",\"+test[2])\n",
    "        if test != last:\n",
    "            f.write(\"\\n\")\n",
    "print(\"file made:\", test_file)"
   ]
  },
  {
   "cell_type": "code",
   "execution_count": null,
   "metadata": {},
   "outputs": [],
   "source": []
  }
 ],
 "metadata": {
  "kernelspec": {
   "display_name": "keras-yolo3",
   "language": "python",
   "name": "keras-yolo3"
  },
  "language_info": {
   "codemirror_mode": {
    "name": "ipython",
    "version": 3
   },
   "file_extension": ".py",
   "mimetype": "text/x-python",
   "name": "python",
   "nbconvert_exporter": "python",
   "pygments_lexer": "ipython3",
   "version": "3.6.8"
  }
 },
 "nbformat": 4,
 "nbformat_minor": 4
}
