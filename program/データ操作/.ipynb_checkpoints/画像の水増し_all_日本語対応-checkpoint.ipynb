{
 "cells": [
  {
   "cell_type": "code",
   "execution_count": 23,
   "metadata": {},
   "outputs": [
    {
     "name": "stdout",
     "output_type": "stream",
     "text": [
      "['C:\\\\Program Files (x86)\\\\Microsoft Visual Studio\\\\Shared\\\\Anaconda3_64\\\\python36.zip', 'C:\\\\Program Files (x86)\\\\Microsoft Visual Studio\\\\Shared\\\\Anaconda3_64\\\\DLLs', 'C:\\\\Program Files (x86)\\\\Microsoft Visual Studio\\\\Shared\\\\Anaconda3_64\\\\lib', 'C:\\\\Program Files (x86)\\\\Microsoft Visual Studio\\\\Shared\\\\Anaconda3_64', '', 'C:\\\\Program Files (x86)\\\\Microsoft Visual Studio\\\\Shared\\\\Anaconda3_64\\\\lib\\\\site-packages', 'C:\\\\Program Files (x86)\\\\Microsoft Visual Studio\\\\Shared\\\\Anaconda3_64\\\\lib\\\\site-packages\\\\win32', 'C:\\\\Program Files (x86)\\\\Microsoft Visual Studio\\\\Shared\\\\Anaconda3_64\\\\lib\\\\site-packages\\\\win32\\\\lib', 'C:\\\\Program Files (x86)\\\\Microsoft Visual Studio\\\\Shared\\\\Anaconda3_64\\\\lib\\\\site-packages\\\\Pythonwin', 'C:\\\\Program Files (x86)\\\\Microsoft Visual Studio\\\\Shared\\\\Anaconda3_64\\\\lib\\\\site-packages\\\\IPython\\\\extensions', 'C:\\\\Users\\\\localadmin\\\\.ipython', '../', '../', './開発', '..開発', '.開発', '..開発/script', '../本番/script', '../本番', '../本番/script', '../本番/script', '../本番/script', '..\\\\本番\\\\script', '../']\n"
     ]
    },
    {
     "ename": "ModuleNotFoundError",
     "evalue": "No module named 'matplotlib'",
     "output_type": "error",
     "traceback": [
      "\u001b[1;31m---------------------------------------------------------------------------\u001b[0m",
      "\u001b[1;31mModuleNotFoundError\u001b[0m                       Traceback (most recent call last)",
      "\u001b[1;32m<ipython-input-23-d9bce8967283>\u001b[0m in \u001b[0;36m<module>\u001b[1;34m\u001b[0m\n\u001b[0;32m      3\u001b[0m \u001b[0msys\u001b[0m\u001b[1;33m.\u001b[0m\u001b[0mpath\u001b[0m\u001b[1;33m.\u001b[0m\u001b[0mappend\u001b[0m\u001b[1;33m(\u001b[0m\u001b[1;34m\"../本番/script\"\u001b[0m\u001b[1;33m)\u001b[0m\u001b[1;33m\u001b[0m\u001b[0m\n\u001b[0;32m      4\u001b[0m \u001b[1;33m\u001b[0m\u001b[0m\n\u001b[1;32m----> 5\u001b[1;33m \u001b[1;32mimport\u001b[0m \u001b[0mmatplotlib\u001b[0m\u001b[1;33m.\u001b[0m\u001b[0mpyplotplt\u001b[0m \u001b[1;32mas\u001b[0m \u001b[0mplt\u001b[0m\u001b[1;33m\u001b[0m\u001b[0m\n\u001b[0m\u001b[0;32m      6\u001b[0m \u001b[1;32mimport\u001b[0m \u001b[0mnumpy\u001b[0m \u001b[1;32mas\u001b[0m \u001b[0mnp\u001b[0m\u001b[1;33m\u001b[0m\u001b[0m\n\u001b[0;32m      7\u001b[0m \u001b[1;32mimport\u001b[0m \u001b[0mcv2\u001b[0m\u001b[1;33m\u001b[0m\u001b[0m\n",
      "\u001b[1;31mModuleNotFoundError\u001b[0m: No module named 'matplotlib'"
     ]
    }
   ],
   "source": [
    "import sys\n",
    "print(sys.path)\n",
    "sys.path.append(\"../本番/script\")\n",
    "\n",
    "import matplotlib.pyplotplt as plt\n",
    "import numpy as np\n",
    "import cv2\n",
    "import os,glob\n",
    "\n",
    "def imread(filename, flags=cv2.IMREAD_COLOR, dtype=np.uint8):\n",
    "    try:\n",
    "        n = np.fromfile(filename, dtype)\n",
    "        img = cv2.imdecode(n, flags)\n",
    "        return img\n",
    "    except Exception as e:\n",
    "        print(e)\n",
    "        return None\n",
    "\n",
    "def imwrite(filename, img, params=None):\n",
    "    try:\n",
    "        ext = os.path.splitext(filename)[1]\n",
    "        result, n = cv2.imencode(ext, img, params)\n",
    "\n",
    "        if result:\n",
    "            with open(filename, mode='w+b') as f:\n",
    "                n.tofile(f)\n",
    "            return True\n",
    "        else:\n",
    "            return False\n",
    "    except Exception as e:\n",
    "        print(e)\n",
    "        return False\n",
    "\n",
    "#ファイルパス\n",
    "#target_dir =r\"C:\\Users\\1908022\\Documents\\ImageData\"\n",
    "target_dir =r\"\\\\172.18.21.187\\aiコンテスト2020\\100_開発\\学習データ\\479削除データ\\image\"\n",
    "\n",
    "\n",
    "#files_syurui = os.listdir(path)\n",
    "#count_syurui = len(files_syurui) \n",
    "\n",
    "type_num = 1\n",
    "type_dir = str(type_num) + \"_*\"\n",
    "print(type_dir)\n",
    "count = 1\n",
    "variety_num =1\n",
    "#種類\n",
    "for type_path in glob.glob(os.path.join(target_dir + \"\\\\image\", \"*\")):\n",
    "    print(type_path)\n",
    "    \n",
    "    variety_dir =str(variety_num) + \"_*\"\n",
    "    print(variety_dir)\n",
    "    #品種\n",
    "    for variety_path in glob.glob(os.path.join(type_path, \"*\")):\n",
    "        print(variety_path)\n",
    "        \n",
    "        for image_file in glob.glob(os.path.join(variety_path, '*.jpg')):\n",
    "\n",
    "            #サンプル画像の取込(日本語不可)\n",
    "            cherry_img = imread(image_file)\n",
    "\n",
    "            #画像の反転(左右反転)\n",
    "            cherry_img_y_flip = cv2.flip(cherry_img, 1)\n",
    "            print('cherry_img_y_flip.shape ⇒', cherry_img_y_flip.shape)\n",
    "\n",
    "            #画像の表示\n",
    "            print(\"処理前\")\n",
    "            plt.imshow(cv2.cvtColor(cherry_img, cv2.COLOR_BGR2RGB))\n",
    "            plt.show()\n",
    "            print(\"処理後\")\n",
    "            plt.imshow(cv2.cvtColor(cherry_img_y_flip, cv2.COLOR_BGR2RGB))\n",
    "            plt.show()\n",
    "           \n",
    "            save_path =  variety_path.replace(\"学習データ\\479削除データ\\image\", \"データ操作\\水増しデータ(左右反転)\")\n",
    "            print(save_path)\n",
    "            os.makedirs(save_path)\n",
    "            \n",
    "            imwrite(save_path + \"\\\\\" +  str(count) +\".jpg\", cherry_img_y_flip)\n",
    "            count= count+1\n",
    "                                  \n",
    "    variety_num = variety_num +1\n",
    "\n",
    "type_num = type_num + 1\n",
    "    \n",
    "\n",
    "\n"
   ]
  },
  {
   "cell_type": "code",
   "execution_count": null,
   "metadata": {},
   "outputs": [],
   "source": []
  },
  {
   "cell_type": "code",
   "execution_count": null,
   "metadata": {},
   "outputs": [],
   "source": []
  },
  {
   "cell_type": "code",
   "execution_count": null,
   "metadata": {},
   "outputs": [],
   "source": []
  }
 ],
 "metadata": {
  "kernelspec": {
   "display_name": "Python 3",
   "language": "python",
   "name": "python3"
  }
 },
 "nbformat": 4,
 "nbformat_minor": 2
}
