{
 "cells": [
  {
   "cell_type": "code",
   "execution_count": 1,
   "metadata": {},
   "outputs": [],
   "source": [
    "import os\n",
    "import glob"
   ]
  },
  {
   "cell_type": "code",
   "execution_count": 2,
   "metadata": {},
   "outputs": [],
   "source": [
    "target_path = r\"//172.18.21.187/aiコンテスト2020/100_開発/学習データ/混合データ/品種/image/\""
   ]
  },
  {
   "cell_type": "code",
   "execution_count": 3,
   "metadata": {},
   "outputs": [],
   "source": [
    "count = 0\n",
    "for image in glob.glob(os.path.join(target_path, \"**\", \"*.jpg\"), recursive=True):\n",
    "    #print(image)\n",
    "    if os.path.basename(image) == 'Thumbs.jpg':\n",
    "        continue\n",
    "    #処理\n",
    "    annotation_name = image.replace(\"image\", \"annotation\", 1).replace(\".jpg\", \".txt\")\n",
    "    \n",
    "    try:\n",
    "        with open(annotation_name, mode = \"r\") as f:\n",
    "            line = f.readline()\n",
    "            if not \",\" in line:\n",
    "                print(annotation_name)\n",
    "                count+=1\n",
    "    except Exception as e:\n",
    "        count+=1\n",
    "        print(e)"
   ]
  },
  {
   "cell_type": "code",
   "execution_count": 4,
   "metadata": {},
   "outputs": [
    {
     "data": {
      "text/plain": [
       "0"
      ]
     },
     "execution_count": 4,
     "metadata": {},
     "output_type": "execute_result"
    }
   ],
   "source": [
    "count"
   ]
  },
  {
   "cell_type": "code",
   "execution_count": null,
   "metadata": {},
   "outputs": [],
   "source": []
  },
  {
   "cell_type": "code",
   "execution_count": null,
   "metadata": {},
   "outputs": [],
   "source": []
  }
 ],
 "metadata": {
  "kernelspec": {
   "display_name": "keras-yolo3",
   "language": "python",
   "name": "keras-yolo3"
  },
  "language_info": {
   "codemirror_mode": {
    "name": "ipython",
    "version": 3
   },
   "file_extension": ".py",
   "mimetype": "text/x-python",
   "name": "python",
   "nbconvert_exporter": "python",
   "pygments_lexer": "ipython3",
   "version": "3.6.8"
  }
 },
 "nbformat": 4,
 "nbformat_minor": 2
}
