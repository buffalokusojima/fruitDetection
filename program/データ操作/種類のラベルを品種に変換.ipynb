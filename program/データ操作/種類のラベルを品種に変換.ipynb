{
 "cells": [
  {
   "cell_type": "markdown",
   "metadata": {},
   "source": [
    "# 種類でアノテーションした結果を品種に置き換えるスクリプト"
   ]
  },
  {
   "cell_type": "markdown",
   "metadata": {},
   "source": [
    "## モジュールインポート"
   ]
  },
  {
   "cell_type": "code",
   "execution_count": 1,
   "metadata": {},
   "outputs": [],
   "source": [
    "import os, glob, csv\n",
    "from xml.etree import ElementTree"
   ]
  },
  {
   "cell_type": "markdown",
   "metadata": {},
   "source": [
    "## 定数宣言"
   ]
  },
  {
   "cell_type": "code",
   "execution_count": 4,
   "metadata": {},
   "outputs": [],
   "source": [
    "#target_dir = '../学習データ/水増しデータ/混合データ/上下反転/品種/annotation/1_リンゴ'\n",
    "target_dir = '../学習データ/ネット/品種/annotation/7_さくらんぼ'"
   ]
  },
  {
   "cell_type": "markdown",
   "metadata": {},
   "source": [
    "## フォルダを回してxmlファイルを検索し、パースしてnameタグの中身をfolderに置き換える"
   ]
  },
  {
   "cell_type": "code",
   "execution_count": 5,
   "metadata": {},
   "outputs": [
    {
     "name": "stdout",
     "output_type": "stream",
     "text": [
      "rewriting ../学習データ/ネット/品種/annotation/7_さくらんぼ\\1_佐藤錦\\10_092F-005s1.xml\n",
      "rewriting ../学習データ/ネット/品種/annotation/7_さくらんぼ\\1_佐藤錦\\10_imgrc0073879067.xml\n",
      "rewriting ../学習データ/ネット/品種/annotation/7_さくらんぼ\\1_佐藤錦\\11_002-00210sq0.xml\n",
      "rewriting ../学習データ/ネット/品種/annotation/7_さくらんぼ\\1_佐藤錦\\11_azimiya_sk-143.xml\n",
      "rewriting ../学習データ/ネット/品種/annotation/7_さくらんぼ\\1_佐藤錦\\12_seikaokoku_s-fs3055.xml\n",
      "rewriting ../学習データ/ネット/品種/annotation/7_さくらんぼ\\1_佐藤錦\\12_Y311380AS4.xml\n",
      "rewriting ../学習データ/ネット/品種/annotation/7_さくらんぼ\\1_佐藤錦\\13_1003-100320200707-CP.xml\n",
      "rewriting ../学習データ/ネット/品種/annotation/7_さくらんぼ\\1_佐藤錦\\13_f0198186_21001290.xml\n",
      "rewriting ../学習データ/ネット/品種/annotation/7_さくらんぼ\\1_佐藤錦\\14_1003-100320200707-CP.xml\n",
      "rewriting ../学習データ/ネット/品種/annotation/7_さくらんぼ\\1_佐藤錦\\14_20537.2.xml\n",
      "rewriting ../学習データ/ネット/品種/annotation/7_さくらんぼ\\1_佐藤錦\\15_main-image1.xml\n",
      "rewriting ../学習データ/ネット/品種/annotation/7_さくらんぼ\\1_佐藤錦\\15_satouni_500g.xml\n",
      "rewriting ../学習データ/ネット/品種/annotation/7_さくらんぼ\\1_佐藤錦\\16_070711.xml\n",
      "rewriting ../学習データ/ネット/品種/annotation/7_さくらんぼ\\1_佐藤錦\\16_L1.xml\n",
      "rewriting ../学習データ/ネット/品種/annotation/7_さくらんぼ\\1_佐藤錦\\17_IMG_2828.xml\n",
      "rewriting ../学習データ/ネット/品種/annotation/7_さくらんぼ\\1_佐藤錦\\17_pd_20388656066956838bf8de0cde07960947bc2800.xml\n",
      "rewriting ../学習データ/ネット/品種/annotation/7_さくらんぼ\\1_佐藤錦\\18_1.xml\n",
      "rewriting ../学習データ/ネット/品種/annotation/7_さくらんぼ\\1_佐藤錦\\19_slider-satonishiki.xml\n",
      "rewriting ../学習データ/ネット/品種/annotation/7_さくらんぼ\\1_佐藤錦\\1_.xml\n",
      "rewriting ../学習データ/ネット/品種/annotation/7_さくらんぼ\\1_佐藤錦\\1_main1_068-00017gv_578_578.xml\n",
      "rewriting ../学習データ/ネット/品種/annotation/7_さくらんぼ\\1_佐藤錦\\20_satounishiki_san.xml\n",
      "rewriting ../学習データ/ネット/品種/annotation/7_さくらんぼ\\1_佐藤錦\\21_img_01.xml\n",
      "rewriting ../学習データ/ネット/品種/annotation/7_さくらんぼ\\1_佐藤錦\\22_img_02.xml\n",
      "rewriting ../学習データ/ネット/品種/annotation/7_さくらんぼ\\1_佐藤錦\\24_jc1503056.xml\n",
      "rewriting ../学習データ/ネット/品種/annotation/7_さくらんぼ\\1_佐藤錦\\25_jc1503060.xml\n",
      "rewriting ../学習データ/ネット/品種/annotation/7_さくらんぼ\\1_佐藤錦\\26_jc1503058.xml\n",
      "rewriting ../学習データ/ネット/品種/annotation/7_さくらんぼ\\1_佐藤錦\\27_1701200906.g_400-w_g.xml\n",
      "rewriting ../学習データ/ネット/品種/annotation/7_さくらんぼ\\1_佐藤錦\\28_c_limit,w_1000.xml\n",
      "rewriting ../学習データ/ネット/品種/annotation/7_さくらんぼ\\1_佐藤錦\\29_103673129.xml\n",
      "rewriting ../学習データ/ネット/品種/annotation/7_さくらんぼ\\1_佐藤錦\\2_20110518taisilyou-04.xml\n",
      "rewriting ../学習データ/ネット/品種/annotation/7_さくらんぼ\\1_佐藤錦\\2_97327_97327.xml\n",
      "rewriting ../学習データ/ネット/品種/annotation/7_さくらんぼ\\1_佐藤錦\\30_103673129_o1.xml\n",
      "rewriting ../学習データ/ネット/品種/annotation/7_さくらんぼ\\1_佐藤錦\\31_136477485.xml\n",
      "rewriting ../学習データ/ネット/品種/annotation/7_さくらんぼ\\1_佐藤錦\\32_ygo_27722_T1.xml\n",
      "rewriting ../学習データ/ネット/品種/annotation/7_さくらんぼ\\1_佐藤錦\\33_2.xml\n",
      "rewriting ../学習データ/ネット/品種/annotation/7_さくらんぼ\\1_佐藤錦\\34_02.xml\n",
      "rewriting ../学習データ/ネット/品種/annotation/7_さくらんぼ\\1_佐藤錦\\35_satou-1.xml\n",
      "rewriting ../学習データ/ネット/品種/annotation/7_さくらんぼ\\1_佐藤錦\\36_69-web_photo2c.xml\n",
      "rewriting ../学習データ/ネット/品種/annotation/7_さくらんぼ\\1_佐藤錦\\37_FT-J-013.xml\n",
      "rewriting ../学習データ/ネット/品種/annotation/7_さくらんぼ\\1_佐藤錦\\3_26560_1.xml\n",
      "rewriting ../学習データ/ネット/品種/annotation/7_さくらんぼ\\1_佐藤錦\\3_gr87_main-01.xml\n",
      "rewriting ../学習データ/ネット/品種/annotation/7_さくらんぼ\\1_佐藤錦\\4_26560_T3.xml\n",
      "rewriting ../学習データ/ネット/品種/annotation/7_さくらんぼ\\1_佐藤錦\\4_653dc973e76f8573b55f0e865d451a6a.xml\n",
      "rewriting ../学習データ/ネット/品種/annotation/7_さくらんぼ\\1_佐藤錦\\5_26560_5.xml\n",
      "rewriting ../学習データ/ネット/品種/annotation/7_さくらんぼ\\1_佐藤錦\\5_6aa91bffd14cdaf644cd0130b6781c89.xml\n",
      "rewriting ../学習データ/ネット/品種/annotation/7_さくらんぼ\\1_佐藤錦\\6_320.xml\n",
      "rewriting ../学習データ/ネット/品種/annotation/7_さくらんぼ\\1_佐藤錦\\6_ecg2006011200001-p1.xml\n",
      "rewriting ../学習データ/ネット/品種/annotation/7_さくらんぼ\\1_佐藤錦\\7_001.xml\n",
      "rewriting ../学習データ/ネット/品種/annotation/7_さくらんぼ\\1_佐藤錦\\7_nikka1622_100-00007.xml\n",
      "rewriting ../学習データ/ネット/品種/annotation/7_さくらんぼ\\1_佐藤錦\\8_002.xml\n",
      "rewriting ../学習データ/ネット/品種/annotation/7_さくらんぼ\\1_佐藤錦\\8_80200193_00.xml\n",
      "rewriting ../学習データ/ネット/品種/annotation/7_さくらんぼ\\1_佐藤錦\\9_fa204556.xml\n",
      "rewriting ../学習データ/ネット/品種/annotation/7_さくらんぼ\\1_佐藤錦\\9_taisyo.xml\n",
      "rewriting ../学習データ/ネット/品種/annotation/7_さくらんぼ\\3_大将錦\\10_imgrc0073879067.xml\n",
      "rewriting ../学習データ/ネット/品種/annotation/7_さくらんぼ\\3_大将錦\\11_azimiya_sk-143.xml\n",
      "rewriting ../学習データ/ネット/品種/annotation/7_さくらんぼ\\3_大将錦\\12_Y311380AS4.xml\n",
      "rewriting ../学習データ/ネット/品種/annotation/7_さくらんぼ\\3_大将錦\\13_f0198186_21001290.xml\n",
      "rewriting ../学習データ/ネット/品種/annotation/7_さくらんぼ\\3_大将錦\\14_20537.2.xml\n",
      "rewriting ../学習データ/ネット/品種/annotation/7_さくらんぼ\\3_大将錦\\15_main-image1.xml\n",
      "rewriting ../学習データ/ネット/品種/annotation/7_さくらんぼ\\3_大将錦\\16_070711.xml\n",
      "rewriting ../学習データ/ネット/品種/annotation/7_さくらんぼ\\3_大将錦\\17_pd_20388656066956838bf8de0cde07960947bc2800.xml\n",
      "rewriting ../学習データ/ネット/品種/annotation/7_さくらんぼ\\3_大将錦\\18_0da333e3.xml\n",
      "rewriting ../学習データ/ネット/品種/annotation/7_さくらんぼ\\3_大将錦\\19_106744336_3637933119554763_7813139621275447582_n.xml\n",
      "rewriting ../学習データ/ネット/品種/annotation/7_さくらんぼ\\3_大将錦\\1_.xml\n",
      "rewriting ../学習データ/ネット/品種/annotation/7_さくらんぼ\\3_大将錦\\20_JAG-114.xml\n",
      "rewriting ../学習データ/ネット/品種/annotation/7_さくらんぼ\\3_大将錦\\21_20200705_ffb8a2.xml\n",
      "rewriting ../学習データ/ネット/品種/annotation/7_さくらんぼ\\3_大将錦\\22_image_16.xml\n",
      "rewriting ../学習データ/ネット/品種/annotation/7_さくらんぼ\\3_大将錦\\23_1532.xml\n",
      "rewriting ../学習データ/ネット/品種/annotation/7_さくらんぼ\\3_大将錦\\24_e0154682_22162438.xml\n",
      "rewriting ../学習データ/ネット/品種/annotation/7_さくらんぼ\\3_大将錦\\25_1-2.xml\n",
      "rewriting ../学習データ/ネット/品種/annotation/7_さくらんぼ\\3_大将錦\\26_fff5defc58.xml\n",
      "rewriting ../学習データ/ネット/品種/annotation/7_さくらんぼ\\3_大将錦\\27_IMG_5796.xml\n",
      "rewriting ../学習データ/ネット/品種/annotation/7_さくらんぼ\\3_大将錦\\28_sn_2_3.xml\n",
      "rewriting ../学習データ/ネット/品種/annotation/7_さくらんぼ\\3_大将錦\\29_sn_2L4.xml\n",
      "rewriting ../学習データ/ネット/品種/annotation/7_さくらんぼ\\3_大将錦\\2_20110518taisilyou-04.xml\n",
      "rewriting ../学習データ/ネット/品種/annotation/7_さくらんぼ\\3_大将錦\\30_10877_2018_0628_IMG_9993.xml\n",
      "rewriting ../学習データ/ネット/品種/annotation/7_さくらんぼ\\3_大将錦\\31_10878_2018_0628_IMG_9995.xml\n",
      "rewriting ../学習データ/ネット/品種/annotation/7_さくらんぼ\\3_大将錦\\32_10866_2018_0628_IMG_0004.xml\n",
      "rewriting ../学習データ/ネット/品種/annotation/7_さくらんぼ\\3_大将錦\\33_10864_2018_0628_IMG_0002.xml\n",
      "rewriting ../学習データ/ネット/品種/annotation/7_さくらんぼ\\3_大将錦\\34_o2048153614494947195.xml\n",
      "rewriting ../学習データ/ネット/品種/annotation/7_さくらんぼ\\3_大将錦\\35_116870535_762202251272506_4728607048528841448_n.xml\n",
      "rewriting ../学習データ/ネット/品種/annotation/7_さくらんぼ\\3_大将錦\\36_d2ac963c1e140f2c2e5b844b237937b7.xml\n",
      "rewriting ../学習データ/ネット/品種/annotation/7_さくらんぼ\\3_大将錦\\37_main4__KPS6844_578_578.xml\n",
      "rewriting ../学習データ/ネット/品種/annotation/7_さくらんぼ\\3_大将錦\\38_c0172234_22251376.xml\n",
      "rewriting ../学習データ/ネット/品種/annotation/7_さくらんぼ\\3_大将錦\\39_f0198186_21054136.xml\n",
      "rewriting ../学習データ/ネット/品種/annotation/7_さくらんぼ\\3_大将錦\\3_26560_1.xml\n",
      "rewriting ../学習データ/ネット/品種/annotation/7_さくらんぼ\\3_大将錦\\40_107086836_183636419779648_6758564298692693009_n.xml\n",
      "rewriting ../学習データ/ネット/品種/annotation/7_さくらんぼ\\3_大将錦\\41_450-20190704230211223190.xml\n",
      "rewriting ../学習データ/ネット/品種/annotation/7_さくらんぼ\\3_大将錦\\42_7e8cb2c00577f4905114f699d67955a0.xml\n",
      "rewriting ../学習データ/ネット/品種/annotation/7_さくらんぼ\\3_大将錦\\44.xml\n",
      "rewriting ../学習データ/ネット/品種/annotation/7_さくらんぼ\\3_大将錦\\45.xml\n",
      "rewriting ../学習データ/ネット/品種/annotation/7_さくらんぼ\\3_大将錦\\46.xml\n",
      "rewriting ../学習データ/ネット/品種/annotation/7_さくらんぼ\\3_大将錦\\47.xml\n",
      "rewriting ../学習データ/ネット/品種/annotation/7_さくらんぼ\\3_大将錦\\48.xml\n",
      "rewriting ../学習データ/ネット/品種/annotation/7_さくらんぼ\\3_大将錦\\49.xml\n",
      "rewriting ../学習データ/ネット/品種/annotation/7_さくらんぼ\\3_大将錦\\4_26560_T3.xml\n",
      "rewriting ../学習データ/ネット/品種/annotation/7_さくらんぼ\\3_大将錦\\50.xml\n",
      "rewriting ../学習データ/ネット/品種/annotation/7_さくらんぼ\\3_大将錦\\51.xml\n",
      "rewriting ../学習データ/ネット/品種/annotation/7_さくらんぼ\\3_大将錦\\52.xml\n",
      "rewriting ../学習データ/ネット/品種/annotation/7_さくらんぼ\\3_大将錦\\53.xml\n",
      "rewriting ../学習データ/ネット/品種/annotation/7_さくらんぼ\\3_大将錦\\54.xml\n",
      "rewriting ../学習データ/ネット/品種/annotation/7_さくらんぼ\\3_大将錦\\55.xml\n",
      "rewriting ../学習データ/ネット/品種/annotation/7_さくらんぼ\\3_大将錦\\56.xml\n",
      "rewriting ../学習データ/ネット/品種/annotation/7_さくらんぼ\\3_大将錦\\57.xml\n",
      "rewriting ../学習データ/ネット/品種/annotation/7_さくらんぼ\\3_大将錦\\58.xml\n",
      "rewriting ../学習データ/ネット/品種/annotation/7_さくらんぼ\\3_大将錦\\59.xml\n",
      "rewriting ../学習データ/ネット/品種/annotation/7_さくらんぼ\\3_大将錦\\5_26560_5.xml\n",
      "rewriting ../学習データ/ネット/品種/annotation/7_さくらんぼ\\3_大将錦\\60.xml\n",
      "rewriting ../学習データ/ネット/品種/annotation/7_さくらんぼ\\3_大将錦\\6_320.xml\n",
      "rewriting ../学習データ/ネット/品種/annotation/7_さくらんぼ\\3_大将錦\\7_nikka1622_100-00007.xml\n",
      "rewriting ../学習データ/ネット/品種/annotation/7_さくらんぼ\\3_大将錦\\8_80200193_00.xml\n",
      "rewriting ../学習データ/ネット/品種/annotation/7_さくらんぼ\\3_大将錦\\9_taisyo.xml\n",
      "rewriting ../学習データ/ネット/品種/annotation/7_さくらんぼ\\5_南陽\\10_3df2ef3904e08ad7686d9d6615335b0a-1-768x434.xml\n",
      "rewriting ../学習データ/ネット/品種/annotation/7_さくらんぼ\\5_南陽\\11_4ac5cab087b781af436b7701fb4788e3-320x315.xml\n",
      "rewriting ../学習データ/ネット/品種/annotation/7_さくらんぼ\\5_南陽\\12_IMG_2944_F.xml\n",
      "rewriting ../学習データ/ネット/品種/annotation/7_さくらんぼ\\5_南陽\\13_IMG_2945_F.xml\n",
      "rewriting ../学習データ/ネット/品種/annotation/7_さくらんぼ\\5_南陽\\14_IMG_4386_C.xml\n",
      "rewriting ../学習データ/ネット/品種/annotation/7_さくらんぼ\\5_南陽\\15_IMG_4412_C.xml\n",
      "rewriting ../学習データ/ネット/品種/annotation/7_さくらんぼ\\5_南陽\\16_IMG_4420_C_20160805162610233.xml\n",
      "rewriting ../学習データ/ネット/品種/annotation/7_さくらんぼ\\5_南陽\\17_IMG_4314a_C.xml\n",
      "rewriting ../学習データ/ネット/品種/annotation/7_さくらんぼ\\5_南陽\\18_IMG_4315_C.xml\n",
      "rewriting ../学習データ/ネット/品種/annotation/7_さくらんぼ\\5_南陽\\19_img_0202.xml\n",
      "rewriting ../学習データ/ネット/品種/annotation/7_さくらんぼ\\5_南陽\\1_cherry_Nanyo13L.xml\n",
      "rewriting ../学習データ/ネット/品種/annotation/7_さくらんぼ\\5_南陽\\20_A20_I1.xml\n",
      "rewriting ../学習データ/ネット/品種/annotation/7_さくらんぼ\\5_南陽\\21_1-83_201906.xml\n",
      "rewriting ../学習データ/ネット/品種/annotation/7_さくらんぼ\\5_南陽\\22_cherry_Nanyo01(5760x3840).xml\n",
      "rewriting ../学習データ/ネット/品種/annotation/7_さくらんぼ\\5_南陽\\23_cherry_Nanyo02(5760x3840).xml\n"
     ]
    },
    {
     "name": "stdout",
     "output_type": "stream",
     "text": [
      "rewriting ../学習データ/ネット/品種/annotation/7_さくらんぼ\\5_南陽\\24_cherry_Nanyo13(5760x3840).xml\n",
      "rewriting ../学習データ/ネット/品種/annotation/7_さくらんぼ\\5_南陽\\25_display.xml\n",
      "rewriting ../学習データ/ネット/品種/annotation/7_さくらんぼ\\5_南陽\\26_2394084_listImage.xml\n",
      "rewriting ../学習データ/ネット/品種/annotation/7_さくらんぼ\\5_南陽\\27_35.xml\n",
      "rewriting ../学習データ/ネット/品種/annotation/7_さくらんぼ\\5_南陽\\28_ac0fae48.xml\n",
      "rewriting ../学習データ/ネット/品種/annotation/7_さくらんぼ\\5_南陽\\29_o0552041414235730532.xml\n",
      "rewriting ../学習データ/ネット/品種/annotation/7_さくらんぼ\\5_南陽\\2_83915709.xml\n",
      "rewriting ../学習データ/ネット/品種/annotation/7_さくらんぼ\\5_南陽\\30_o0549041214235730534.xml\n",
      "rewriting ../学習データ/ネット/品種/annotation/7_さくらんぼ\\5_南陽\\31_o0561042014235730537.xml\n",
      "rewriting ../学習データ/ネット/品種/annotation/7_さくらんぼ\\5_南陽\\32_o0544040814235730535.xml\n",
      "rewriting ../学習データ/ネット/品種/annotation/7_さくらんぼ\\5_南陽\\33_104383761_3138524106193698_5469880775508072426_n.xml\n",
      "rewriting ../学習データ/ネット/品種/annotation/7_さくらんぼ\\5_南陽\\34_IMG_0863.xml\n",
      "rewriting ../学習データ/ネット/品種/annotation/7_さくらんぼ\\5_南陽\\36_IMG_3594_H.xml\n",
      "rewriting ../学習データ/ネット/品種/annotation/7_さくらんぼ\\5_南陽\\37_nanyo_01.xml\n",
      "rewriting ../学習データ/ネット/品種/annotation/7_さくらんぼ\\5_南陽\\38_orchard1.xml\n",
      "rewriting ../学習データ/ネット/品種/annotation/7_さくらんぼ\\5_南陽\\3_main2__KPS76171_578_578.xml\n",
      "rewriting ../学習データ/ネット/品種/annotation/7_さくらんぼ\\5_南陽\\40_1bf2df010c.xml\n",
      "rewriting ../学習データ/ネット/品種/annotation/7_さくらんぼ\\5_南陽\\41_Dg7RLzUVQAAfDjz.xml\n",
      "rewriting ../学習データ/ネット/品種/annotation/7_さくらんぼ\\5_南陽\\4_main3_43640010_578_578.xml\n",
      "rewriting ../学習データ/ネット/品種/annotation/7_さくらんぼ\\5_南陽\\5_12588_1.xml\n",
      "rewriting ../学習データ/ネット/品種/annotation/7_さくらんぼ\\5_南陽\\6_02937_2010_0703_IMG_0078.xml\n",
      "rewriting ../学習データ/ネット/品種/annotation/7_さくらんぼ\\5_南陽\\7_05985_2013_0719_IMG_9705.xml\n",
      "rewriting ../学習データ/ネット/品種/annotation/7_さくらんぼ\\5_南陽\\8_cherry_nan_main.xml\n",
      "rewriting ../学習データ/ネット/品種/annotation/7_さくらんぼ\\5_南陽\\9_41csuiiYRDL._AC_.xml\n"
     ]
    }
   ],
   "source": [
    "for folder in glob.glob(os.path.join(target_dir,'*')):\n",
    "    if not os.path.isdir(folder):\n",
    "        continue\n",
    "    for path in glob.glob(os.path.join(folder, '*.xml')):\n",
    "        tree = ElementTree.parse(path)\n",
    "        elem = tree.getroot()\n",
    "        folder = elem.findtext(\"folder\")\n",
    "        folder = folder.split(\"_\")[1]\n",
    "        objects = elem.findall(\"object\")\n",
    "        for obj in objects:\n",
    "            name = obj.iter(\"name\")\n",
    "            for n in name:\n",
    "                n.text = folder\n",
    "        tree.write(path, encoding='UTF-8')\n",
    "        print(\"rewriting\", path)"
   ]
  },
  {
   "cell_type": "code",
   "execution_count": null,
   "metadata": {},
   "outputs": [],
   "source": []
  },
  {
   "cell_type": "code",
   "execution_count": null,
   "metadata": {},
   "outputs": [],
   "source": []
  },
  {
   "cell_type": "code",
   "execution_count": null,
   "metadata": {},
   "outputs": [],
   "source": []
  },
  {
   "cell_type": "code",
   "execution_count": null,
   "metadata": {},
   "outputs": [],
   "source": []
  },
  {
   "cell_type": "code",
   "execution_count": null,
   "metadata": {},
   "outputs": [],
   "source": []
  },
  {
   "cell_type": "code",
   "execution_count": null,
   "metadata": {},
   "outputs": [],
   "source": []
  }
 ],
 "metadata": {
  "kernelspec": {
   "display_name": "keras-yolo3",
   "language": "python",
   "name": "keras-yolo3"
  },
  "language_info": {
   "codemirror_mode": {
    "name": "ipython",
    "version": 3
   },
   "file_extension": ".py",
   "mimetype": "text/x-python",
   "name": "python",
   "nbconvert_exporter": "python",
   "pygments_lexer": "ipython3",
   "version": "3.6.8"
  }
 },
 "nbformat": 4,
 "nbformat_minor": 2
}
