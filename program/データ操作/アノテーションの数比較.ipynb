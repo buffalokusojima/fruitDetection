{
 "cells": [
  {
   "cell_type": "code",
   "execution_count": 1,
   "metadata": {},
   "outputs": [],
   "source": [
    "import os,glob"
   ]
  },
  {
   "cell_type": "code",
   "execution_count": 5,
   "metadata": {},
   "outputs": [],
   "source": [
    "target_path = \"../../学習データ/調整データ/品種/image/\"\n",
    "\n",
    "classes_path = \"../class/品種クラス\""
   ]
  },
  {
   "cell_type": "code",
   "execution_count": 16,
   "metadata": {},
   "outputs": [
    {
     "name": "stdout",
     "output_type": "stream",
     "text": [
      "../../学習データ/調整データ/品種/image\\1_リンゴ\n",
      "../../学習データ/調整データ/品種/image\\2_梨\n",
      "../../学習データ/調整データ/品種/image\\3_ミカン\n",
      "../../学習データ/調整データ/品種/image\\4_イチゴ\n",
      "../../学習データ/調整データ/品種/image\\5_ブドウ\n",
      "../../学習データ/調整データ/品種/image\\6_桃\n",
      "../../学習データ/調整データ/品種/image\\7_さくらんぼ\n"
     ]
    }
   ],
   "source": [
    "annotation_map = {}\n",
    "for type_class in glob.glob(os.path.join(target_path, \"*\")):\n",
    "    print(type_class)\n",
    "    class_file = os.path.join(classes_path, os.path.basename(type_class), \"class.txt\")\n",
    "    with open(class_file, encoding='UTF-8') as f:\n",
    "        class_names = f.readlines()\n",
    "    class_names = [c.strip() for c in class_names]\n",
    "    tmp_map = annotation_map[os.path.basename(type_class)] = {}\n",
    "    for path in glob.glob(os.path.join(type_class, \"*\")):\n",
    "        if not os.path.isdir(path):\n",
    "            continue\n",
    "        tmp_map[os.path.basename(path).split(\"_\")[1]] = 0\n",
    "    \n",
    "    for path in glob.glob(os.path.join(type_class, \"*\")):\n",
    "        for file in glob.glob(os.path.join(path, \"*.jpg\")):\n",
    "            if os.path.basename(file) == \"Thumbs.jpg\":\n",
    "                continue\n",
    "            annotation_file = file.replace(\"image\", \"annotation\", 1).replace(\".jpg\", \".txt\")\n",
    "            with open(annotation_file) as f:\n",
    "                line = f.readline()\n",
    "                while line:\n",
    "                    tmp_map[class_names[int(line.split(\",\")[4])]] += 1\n",
    "                    line = f.readline()\n",
    "       "
   ]
  },
  {
   "cell_type": "code",
   "execution_count": 18,
   "metadata": {},
   "outputs": [
    {
     "name": "stdout",
     "output_type": "stream",
     "text": [
      "---------リンゴ----------\n",
      "あいかの香り 313\n",
      "ふじ 430\n",
      "ジョナゴールド 384\n",
      "シナノスイート 461\n",
      "王林 439\n",
      "シナノゴールド 477\n",
      "星の金貨 506\n",
      "金星 218\n",
      "---------梨----------\n",
      "二十世紀 435\n",
      "秋麗 521\n",
      "豊水 351\n",
      "幸水 369\n",
      "愛宕梨 284\n",
      "新高梨 347\n",
      "---------ミカン----------\n",
      "青島ミカン 847\n",
      "八朔 415\n",
      "麗紅 523\n",
      "晩白柚 317\n",
      "安政柑 329\n",
      "しらぬい 582\n",
      "はるみ 473\n",
      "さんぽう柑 360\n",
      "---------イチゴ----------\n",
      "あまおう 758\n",
      "スカイベリー 579\n",
      "パールホワイト 989\n",
      "淡雪 1366\n",
      "やよいひめ 586\n",
      "とちおとめ 601\n",
      "紅ほっぺ 881\n",
      "ゆうべに 737\n",
      "---------ブドウ----------\n",
      "デラウェア 328\n",
      "巨峰 178\n",
      "ピオーネ 158\n",
      "安芸クイーン 194\n",
      "ゴルビー 161\n",
      "ルビーロマン 156\n",
      "---------桃----------\n",
      "はなよめ 332\n",
      "あかつき 347\n",
      "川中島白桃 390\n",
      "まどか 442\n",
      "なつっこ 302\n",
      "---------さくらんぼ----------\n",
      "佐藤錦 689\n",
      "月山錦 1378\n",
      "大将錦 466\n",
      "紅秀峰 1617\n",
      "南陽 883\n"
     ]
    }
   ],
   "source": [
    "for class_key in annotation_map:\n",
    "    print(\"---------\"+class_key.split(\"_\")[1]+\"----------\")\n",
    "    tmp_map = annotation_map[class_key]\n",
    "    for key in tmp_map:\n",
    "        print(key, tmp_map[key])"
   ]
  },
  {
   "cell_type": "code",
   "execution_count": null,
   "metadata": {},
   "outputs": [],
   "source": []
  }
 ],
 "metadata": {
  "kernelspec": {
   "display_name": "keras-yolo3",
   "language": "python",
   "name": "keras-yolo3"
  },
  "language_info": {
   "codemirror_mode": {
    "name": "ipython",
    "version": 3
   },
   "file_extension": ".py",
   "mimetype": "text/x-python",
   "name": "python",
   "nbconvert_exporter": "python",
   "pygments_lexer": "ipython3",
   "version": "3.6.8"
  }
 },
 "nbformat": 4,
 "nbformat_minor": 4
}
