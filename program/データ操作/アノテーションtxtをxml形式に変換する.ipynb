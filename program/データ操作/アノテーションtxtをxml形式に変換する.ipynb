{
 "cells": [
  {
   "cell_type": "code",
   "execution_count": 1,
   "metadata": {},
   "outputs": [],
   "source": [
    "#種類のフォルダ名は適宜変えてください\n",
    "# folder = \"..\\\\..\\\\学習データ\\\\追加データ\\\\整理\\\\annotation\\\\7_さくらんぼ\"\n",
    "#folder = \"\\\\172.18.21.187\\\\aiコンテスト2020\\\\100_開発\\\\学習データ\\\\追加データ\\\\お試し\\\\annotation\\\\1_リンゴ\"\n",
    "# folder = \"..\\\\..\\\\学習データ\\\\水増しデータ\\\\混合データ\\\\上下反転左右反転\\\\種類\\\\annotation\\\\1_リンゴ\"\n",
    "#folder = \"..\\\\..\\\\学習データ\\\\水増しデータ\\\\混合データ\\\\v2.0Test\\\\彩度1.5コントラスト1.5明度1.5シャープネス1.5大きさ1.2上下反転左右反転90度回転270度回転\\\\品種\\\\annotation\\\\1_リンゴ\"\n",
    "folder = \"..\\\\..\\\\学習データ\\\\ネット\\\\品種\\\\annotation\\\\6_桃\"\n",
    "#folder = \"..\\\\..\\\\学習データ\\\\水増しデータ\\\\混合データ\\\\上下反転左右反転\\\\品種\\\\annotation\\\\1_リンゴ\""
   ]
  },
  {
   "cell_type": "code",
   "execution_count": 2,
   "metadata": {},
   "outputs": [],
   "source": [
    "import glob\n",
    "import xml.etree.ElementTree as ET\n",
    "from PIL import Image\n",
    "import pathlib"
   ]
  },
  {
   "cell_type": "code",
   "execution_count": 3,
   "metadata": {},
   "outputs": [],
   "source": [
    "#指定したファイルから左上右下、種類番号のリストのリストを返す関数\n",
    "def get_box_list(file):\n",
    "    f = open(file)\n",
    "    #左上右下、種類番号のリストのリストを保存\n",
    "    box_list = []\n",
    "    for line in f:\n",
    "        box = line.split(\",\")\n",
    "        #改行削除\n",
    "        box[4] = box[4][:-1]\n",
    "        #print(box)\n",
    "        box_list.append(box)\n",
    "    return box_list"
   ]
  },
  {
   "cell_type": "code",
   "execution_count": 4,
   "metadata": {},
   "outputs": [],
   "source": [
    "# 引数　座標のリスト[[左, 上, 右, 下, 種類の番号], [左, 上, 右, 下, 種類の番号], [左, 上, 右, 下, 種類の番号], ... ]\n",
    "# listの名前をcoordinates_listとする\n",
    "# txtのパス？？？\n",
    "def make_xml(coordinates_list, txt_path):\n",
    "\n",
    "    annotation = ET.Element('annotation')\n",
    "    folder = ET.SubElement(annotation, 'folder')\n",
    "\n",
    "    # TODO:ここを種類の名前にする パスの2つ上を見る\n",
    "    #folder.text = \"1_あいかの香り\"\n",
    "    folder.text = txt_path.split(\"\\\\\")[-2]\n",
    "\n",
    "    filename = ET.SubElement(annotation, 'filename')\n",
    "\n",
    "    # TODO: 画像のファイル名にする pathからとってくる\n",
    "    #画像の名前に変換\n",
    "    image_path = txt_path.replace(\"annotation\",\"image\").replace(\".txt\", \".jpg\")\n",
    "    filename.text = image_path.split(\"\\\\\")[-1]\n",
    "\n",
    "    path = ET.SubElement(annotation, 'path')\n",
    "\n",
    "    # TODO: pathの変更 \\を入力するには\\\\とする？\n",
    "    #ここは絶対パス？\n",
    "    #path.text = txt_path\n",
    "    #print(image_path)\n",
    "    path.text = \"\\\\\\\\172.18.21.187\\\\aiコンテスト2020\\\\100_開発\\\\学習データ\\\\\" + image_path.split(\"\\\\学習データ\\\\\")[1]\n",
    "\n",
    "    source = ET.SubElement(annotation, 'source')\n",
    "    database = ET.SubElement(source, 'database')\n",
    "    database.text = \"Unknown\"\n",
    "    size = ET.SubElement(annotation, 'size')\n",
    "    width = ET.SubElement(size, 'width')\n",
    "    height = ET.SubElement(size, 'height')\n",
    "    depth = ET.SubElement(size, 'depth')\n",
    "\n",
    "    \n",
    "    #画像の大きさを求める\n",
    "    img = Image.open(image_path)\n",
    "    #width, height = img.size\n",
    "    \n",
    "    # TODO: width, height, depthの変更, 画像幅、高さ、深さ？\n",
    "    width.text = str(img.size[0])\n",
    "    height.text = str(img.size[1])\n",
    "    depth.text = '3'\n",
    "\n",
    "    segmented = ET.SubElement(annotation, 'segmented')\n",
    "\n",
    "    # TODO: segmentedの変更\n",
    "\n",
    "    segmented.text = '0'\n",
    "\n",
    "    for oneimg_list in coordinates_list:\n",
    "        object = ET.SubElement(annotation, 'object')\n",
    "        name = ET.SubElement(object, 'name')\n",
    "        pose = ET.SubElement(object, 'pose')\n",
    "        truncated = ET.SubElement(object, 'truncated')\n",
    "        difficult = ET.SubElement(object, 'difficult')\n",
    "\n",
    "        # nameの変更\n",
    "        name.text = txt_path.split(\"\\\\\")[-3].split(\"_\")[1]\n",
    "        pose.text = \"Unspecified\"\n",
    "        truncated.text = '0'\n",
    "        difficult.text = '0'\n",
    "\n",
    "        bndbox = ET.SubElement(object, 'bndbox')\n",
    "        xmin = ET.SubElement(bndbox, 'xmin')\n",
    "        ymin = ET.SubElement(bndbox, 'ymin')\n",
    "        xmax = ET.SubElement(bndbox, 'xmax')\n",
    "        ymax = ET.SubElement(bndbox, 'ymax')\n",
    "\n",
    "        # xmin, ymin, xmax, ymaxの変更\n",
    "\n",
    "        xmin.text = str(oneimg_list[0])\n",
    "        ymin.text = str(oneimg_list[1])\n",
    "        xmax.text = str(oneimg_list[2])\n",
    "        ymax.text = str(oneimg_list[3])\n",
    "\n",
    "    #XML文字列の出力\n",
    "    #ET.dump(annotation)\n",
    "\n",
    "    #XMLファイルの生成\n",
    "    tree = ET.ElementTree(annotation)\n",
    "    #保存先どこ\n",
    "    save_folder = txt_path.replace(txt_path.split(\"\\\\\")[-1], \"\")\n",
    "    fl = save_folder + filename.text.replace(\".jpg\", \".xml\")  \n",
    "    tree.write(fl)\n",
    "\n",
    "    return fl\n"
   ]
  },
  {
   "cell_type": "code",
   "execution_count": 5,
   "metadata": {},
   "outputs": [],
   "source": [
    "#make_xml([['56', '39', '324', '323', '0']], \"..\\\\..\\\\学習データ\\\\追加データ\\\\お試し\\\\annotation\\\\1_リンゴ\\\\1_あいかの香り\\\\1.aikanokaori.txt\")"
   ]
  },
  {
   "cell_type": "code",
   "execution_count": 6,
   "metadata": {},
   "outputs": [],
   "source": [
    "#繰り返し処理ここから"
   ]
  },
  {
   "cell_type": "code",
   "execution_count": 7,
   "metadata": {},
   "outputs": [],
   "source": [
    "for file in glob.glob(folder + \"\\\\*\\\\*.txt\"):\n",
    "    if \"classes.txt\" in file:\n",
    "        continue\n",
    "    box_list = get_box_list(file)\n",
    "    #print(file)\n",
    "    #print(len(box_list))\n",
    "    #予測結果がないものは処理しない\n",
    "    if len(box_list) != 0:\n",
    "        #処理\n",
    "        #print(box_list)\n",
    "        #print()\n",
    "        make_xml(box_list, file)"
   ]
  },
  {
   "cell_type": "code",
   "execution_count": null,
   "metadata": {},
   "outputs": [],
   "source": []
  },
  {
   "cell_type": "code",
   "execution_count": null,
   "metadata": {},
   "outputs": [],
   "source": []
  },
  {
   "cell_type": "code",
   "execution_count": null,
   "metadata": {},
   "outputs": [],
   "source": []
  },
  {
   "cell_type": "code",
   "execution_count": null,
   "metadata": {},
   "outputs": [],
   "source": []
  }
 ],
 "metadata": {
  "kernelspec": {
   "display_name": "Python 3",
   "language": "python",
   "name": "python3"
  },
  "language_info": {
   "codemirror_mode": {
    "name": "ipython",
    "version": 3
   },
   "file_extension": ".py",
   "mimetype": "text/x-python",
   "name": "python",
   "nbconvert_exporter": "python",
   "pygments_lexer": "ipython3",
   "version": "3.6.5"
  }
 },
 "nbformat": 4,
 "nbformat_minor": 2
}
